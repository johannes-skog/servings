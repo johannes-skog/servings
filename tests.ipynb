{
 "cells": [
  {
   "cell_type": "code",
   "execution_count": 2,
   "id": "ecc5a32e",
   "metadata": {},
   "outputs": [
    {
     "name": "stdout",
     "output_type": "stream",
     "text": [
      "The autoreload extension is already loaded. To reload it, use:\n",
      "  %reload_ext autoreload\n"
     ]
    }
   ],
   "source": [
    "%load_ext autoreload\n",
    "%autoreload 2\n",
    "import sys\n",
    "import torch\n",
    "sys.path.append(\"src\")\n",
    "from azure_util import AzureBlobStorage"
   ]
  },
  {
   "cell_type": "code",
   "execution_count": 6,
   "id": "70e0e4bc",
   "metadata": {},
   "outputs": [],
   "source": [
    "import torch\n",
    "\n",
    "class Network(torch.nn.Module):\n",
    "    \n",
    "    def __init__(self):\n",
    "        \n",
    "        super().__init__()\n",
    "        \n",
    "        self._layers = torch.nn.Sequential(\n",
    "            torch.nn.Linear(100, 200),\n",
    "            torch.nn.ELU(),\n",
    "            torch.nn.Linear(200, 2),\n",
    "        )\n",
    "        \n",
    "    def forward(self, x):\n",
    "        \n",
    "        return self._layers(x)"
   ]
  },
  {
   "cell_type": "code",
   "execution_count": 7,
   "id": "700ae4cc",
   "metadata": {},
   "outputs": [],
   "source": [
    "network = Network()"
   ]
  },
  {
   "cell_type": "code",
   "execution_count": 13,
   "id": "4073d558",
   "metadata": {},
   "outputs": [],
   "source": [
    "import os\n",
    "PROJECT_NAME = \"test\"\n",
    "PROJECT_PATH = os.path.join(\"models\", PROJECT_NAME)\n",
    "VERSION = \"1\"\n",
    "os.makedirs(PROJECT_PATH, exist_ok = True)\n",
    "MODEL_PATH = os.path.join(PROJECT_PATH, VERSION)\n",
    "os.makedirs(MODEL_PATH, exist_ok = True)\n"
   ]
  },
  {
   "cell_type": "code",
   "execution_count": null,
   "id": "d70b1973",
   "metadata": {},
   "outputs": [],
   "source": []
  },
  {
   "cell_type": "code",
   "execution_count": 15,
   "id": "c699de1e",
   "metadata": {},
   "outputs": [],
   "source": [
    "config = '''\n",
    "name: \"test_network\"\n",
    "platform: \"pytorch_libtorch\"\n",
    "max_batch_size: 10\n",
    "input [\n",
    "  {\n",
    "    name: \"INPUT__0\"\n",
    "    data_type: TYPE_FP32\n",
    "    dims: [100]\n",
    "  }\n",
    "]\n",
    "output [\n",
    "  {\n",
    "    name: \"OUTPUT__0\"\n",
    "    data_type: TYPE_FP32\n",
    "    dims: [2]\n",
    "  }\n",
    "]\n",
    "\n",
    "instance_group [\n",
    "    {\n",
    "        count: 1\n",
    "        kind: KIND_GPU\n",
    "    }\n",
    "]\n",
    "'''\n",
    "\n",
    "f = open(os.path.join(PROJECT_PATH, \"config.pbtxt\"), \"w\")\n",
    "f.write(config)\n",
    "f.close()"
   ]
  },
  {
   "cell_type": "code",
   "execution_count": null,
   "id": "d747a561",
   "metadata": {},
   "outputs": [],
   "source": [
    "import torch\n",
    "example = torch.rand(1, 100)\n",
    "traced_script_module = torch.jit.trace(network, example)\n",
    "traced_script_module.save(os.path.join(MODEL_PATH, \"model.pt\"))"
   ]
  },
  {
   "cell_type": "code",
   "execution_count": null,
   "id": "c5359090",
   "metadata": {},
   "outputs": [],
   "source": []
  },
  {
   "cell_type": "code",
   "execution_count": null,
   "id": "5b70a639",
   "metadata": {},
   "outputs": [],
   "source": [
    "https://deeplearning.blob.core.windows.net/kserve"
   ]
  },
  {
   "cell_type": "code",
   "execution_count": 36,
   "id": "73bbd8a1",
   "metadata": {},
   "outputs": [
    {
     "name": "stderr",
     "output_type": "stream",
     "text": [
      "2023-05-14 10:28:09.080 95 azure.core.pipeline.policies.http_logging_policy INFO [on_request():510] Request URL: 'https://deeplearning.blob.core.windows.net/kfserve2/models/test/config.pbtxt'\n",
      "Request method: 'PUT'\n",
      "Request headers:\n",
      "    'Content-Length': '294'\n",
      "    'x-ms-blob-type': 'REDACTED'\n",
      "    'If-None-Match': '*'\n",
      "    'x-ms-version': 'REDACTED'\n",
      "    'Content-Type': 'application/octet-stream'\n",
      "    'Accept': 'application/xml'\n",
      "    'User-Agent': 'azsdk-python-storage-blob/12.16.0 Python/3.10.9 (Linux-5.19.0-38-generic-x86_64-with-glibc2.27)'\n",
      "    'x-ms-date': 'REDACTED'\n",
      "    'x-ms-client-request-id': '0567ced2-f242-11ed-b0c5-0242ac110002'\n",
      "    'Authorization': 'REDACTED'\n",
      "A body is sent with the request\n",
      "2023-05-14 10:28:09.408 95 azure.core.pipeline.policies.http_logging_policy INFO [on_response():549] Response status: 201\n",
      "Response headers:\n",
      "    'Content-Length': '0'\n",
      "    'Content-MD5': 'REDACTED'\n",
      "    'Last-Modified': 'Sun, 14 May 2023 10:28:09 GMT'\n",
      "    'ETag': '\"0x8DB5465E9C87072\"'\n",
      "    'Server': 'Windows-Azure-Blob/1.0 Microsoft-HTTPAPI/2.0'\n",
      "    'x-ms-request-id': '70af2d11-901e-0098-624e-86ee1a000000'\n",
      "    'x-ms-client-request-id': '0567ced2-f242-11ed-b0c5-0242ac110002'\n",
      "    'x-ms-version': 'REDACTED'\n",
      "    'x-ms-content-crc64': 'REDACTED'\n",
      "    'x-ms-request-server-encrypted': 'REDACTED'\n",
      "    'Date': 'Sun, 14 May 2023 10:28:08 GMT'\n",
      "2023-05-14 10:28:09.412 95 azure.core.pipeline.policies.http_logging_policy INFO [on_request():510] Request URL: 'https://deeplearning.blob.core.windows.net/kfserve2/models/test/1/model.pt'\n",
      "Request method: 'PUT'\n",
      "Request headers:\n",
      "    'Content-Length': '91332'\n",
      "    'x-ms-blob-type': 'REDACTED'\n",
      "    'If-None-Match': '*'\n",
      "    'x-ms-version': 'REDACTED'\n",
      "    'Content-Type': 'application/octet-stream'\n",
      "    'Accept': 'application/xml'\n",
      "    'User-Agent': 'azsdk-python-storage-blob/12.16.0 Python/3.10.9 (Linux-5.19.0-38-generic-x86_64-with-glibc2.27)'\n",
      "    'x-ms-date': 'REDACTED'\n",
      "    'x-ms-client-request-id': '059a704e-f242-11ed-b0c5-0242ac110002'\n",
      "    'Authorization': 'REDACTED'\n",
      "A body is sent with the request\n",
      "2023-05-14 10:28:09.591 95 azure.core.pipeline.policies.http_logging_policy INFO [on_response():549] Response status: 201\n",
      "Response headers:\n",
      "    'Content-Length': '0'\n",
      "    'Content-MD5': 'REDACTED'\n",
      "    'Last-Modified': 'Sun, 14 May 2023 10:28:09 GMT'\n",
      "    'ETag': '\"0x8DB5465E9E25D47\"'\n",
      "    'Server': 'Windows-Azure-Blob/1.0 Microsoft-HTTPAPI/2.0'\n",
      "    'x-ms-request-id': '70af2d44-901e-0098-124e-86ee1a000000'\n",
      "    'x-ms-client-request-id': '059a704e-f242-11ed-b0c5-0242ac110002'\n",
      "    'x-ms-version': 'REDACTED'\n",
      "    'x-ms-content-crc64': 'REDACTED'\n",
      "    'x-ms-request-server-encrypted': 'REDACTED'\n",
      "    'Date': 'Sun, 14 May 2023 10:28:08 GMT'\n"
     ]
    }
   ],
   "source": [
    "import os\n",
    "azure_blob = AzureBlobStorage(\n",
    "    connection_string=os.environ['AZURE_CHECKPOINT_CONNECTION_STRING'],\n",
    "    container_name=\"kfserve2\",#, os.environ['AZURE_CHECKPOINT_CONTAINER_NAME'],\n",
    ")\n",
    "azure_blob.upload_folder(\"context\", \"\")"
   ]
  },
  {
   "cell_type": "code",
   "execution_count": 23,
   "id": "54dc3dcf",
   "metadata": {},
   "outputs": [],
   "source": [
    "import kserve"
   ]
  },
  {
   "cell_type": "code",
   "execution_count": 27,
   "id": "94152b5e",
   "metadata": {},
   "outputs": [
    {
     "name": "stderr",
     "output_type": "stream",
     "text": [
      "2023-05-14 07:59:03.977 95 root INFO [download():63] Copying contents of https://deeplearning.blob.core.windows.net/kserve/test to local\n",
      "2023-05-14 07:59:03.978 95 root INFO [_download_azure_blob():348] Connecting to BLOB account: [deeplearning], container: [kserve], prefix: [test]\n",
      "2023-05-14 07:59:03.979 95 root WARNING [_download_azure_blob():354] Azure credentials or shared access signature token not found, retrying anonymous access\n",
      "2023-05-14 07:59:03.980 95 azure.core.pipeline.policies.http_logging_policy INFO [on_request():513] Request URL: 'https://deeplearning.blob.core.windows.net/kserve?restype=REDACTED&comp=REDACTED&prefix=REDACTED&delimiter=REDACTED'\n",
      "Request method: 'GET'\n",
      "Request headers:\n",
      "    'x-ms-version': 'REDACTED'\n",
      "    'Accept': 'application/xml'\n",
      "    'User-Agent': 'azsdk-python-storage-blob/12.16.0 Python/3.10.9 (Linux-5.19.0-38-generic-x86_64-with-glibc2.27)'\n",
      "    'x-ms-date': 'REDACTED'\n",
      "    'x-ms-client-request-id': '31b5c7f6-f22d-11ed-b0c5-0242ac110002'\n",
      "No body was attached to the request\n",
      "2023-05-14 07:59:04.201 95 azure.core.pipeline.policies.http_logging_policy INFO [on_response():549] Response status: 401\n",
      "Response headers:\n",
      "    'Content-Length': '302'\n",
      "    'Content-Type': 'application/xml'\n",
      "    'Server': 'Windows-Azure-Blob/1.0 Microsoft-HTTPAPI/2.0'\n",
      "    'x-ms-request-id': '5d23c3d5-c01e-004c-1e39-86a73a000000'\n",
      "    'x-ms-client-request-id': '31b5c7f6-f22d-11ed-b0c5-0242ac110002'\n",
      "    'x-ms-version': 'REDACTED'\n",
      "    'x-ms-error-code': 'NoAuthenticationInformation'\n",
      "    'WWW-Authenticate': 'Bearer authorization_uri=https://login.microsoftonline.com/8c1e6ec7-15de-4f1e-b7c9-36fd13d95073/oauth2/authorize resource_id=https://storage.azure.com'\n",
      "    'Date': 'Sun, 14 May 2023 07:59:03 GMT'\n"
     ]
    },
    {
     "ename": "ClientAuthenticationError",
     "evalue": "Server failed to authenticate the request. Please refer to the information in the www-authenticate header.\nRequestId:5d23c3d5-c01e-004c-1e39-86a73a000000\nTime:2023-05-14T07:59:04.1761368Z\nErrorCode:NoAuthenticationInformation\nContent: <?xml version=\"1.0\" encoding=\"utf-8\"?><Error><Code>NoAuthenticationInformation</Code><Message>Server failed to authenticate the request. Please refer to the information in the www-authenticate header.\nRequestId:5d23c3d5-c01e-004c-1e39-86a73a000000\nTime:2023-05-14T07:59:04.1761368Z</Message></Error>",
     "output_type": "error",
     "traceback": [
      "\u001b[0;31m---------------------------------------------------------------------------\u001b[0m",
      "\u001b[0;31mClientAuthenticationError\u001b[0m                 Traceback (most recent call last)",
      "Cell \u001b[0;32mIn[27], line 1\u001b[0m\n\u001b[0;32m----> 1\u001b[0m \u001b[43mkserve\u001b[49m\u001b[38;5;241;43m.\u001b[39;49m\u001b[43mStorage\u001b[49m\u001b[38;5;241;43m.\u001b[39;49m\u001b[43mdownload\u001b[49m\u001b[43m(\u001b[49m\u001b[38;5;124;43m\"\u001b[39;49m\u001b[38;5;124;43mhttps://deeplearning.blob.core.windows.net/kserve/test\u001b[39;49m\u001b[38;5;124;43m\"\u001b[39;49m\u001b[43m,\u001b[49m\u001b[43m \u001b[49m\u001b[38;5;124;43m\"\u001b[39;49m\u001b[38;5;124;43m.\u001b[39;49m\u001b[38;5;124;43m\"\u001b[39;49m\u001b[43m)\u001b[49m\n",
      "File \u001b[0;32m/opt/conda/lib/python3.10/site-packages/kserve/storage.py:87\u001b[0m, in \u001b[0;36mStorage.download\u001b[0;34m(uri, out_dir)\u001b[0m\n\u001b[1;32m     85\u001b[0m     Storage\u001b[38;5;241m.\u001b[39m_download_hdfs(uri, out_dir)\n\u001b[1;32m     86\u001b[0m \u001b[38;5;28;01melif\u001b[39;00m re\u001b[38;5;241m.\u001b[39msearch(_AZURE_BLOB_RE, uri):\n\u001b[0;32m---> 87\u001b[0m     \u001b[43mStorage\u001b[49m\u001b[38;5;241;43m.\u001b[39;49m\u001b[43m_download_azure_blob\u001b[49m\u001b[43m(\u001b[49m\u001b[43muri\u001b[49m\u001b[43m,\u001b[49m\u001b[43m \u001b[49m\u001b[43mout_dir\u001b[49m\u001b[43m)\u001b[49m\n\u001b[1;32m     88\u001b[0m \u001b[38;5;28;01melif\u001b[39;00m re\u001b[38;5;241m.\u001b[39msearch(_AZURE_FILE_RE, uri):\n\u001b[1;32m     89\u001b[0m     Storage\u001b[38;5;241m.\u001b[39m_download_azure_file_share(uri, out_dir)\n",
      "File \u001b[0;32m/opt/conda/lib/python3.10/site-packages/kserve/storage.py:366\u001b[0m, in \u001b[0;36mStorage._download_azure_blob\u001b[0;34m(uri, out_dir)\u001b[0m\n\u001b[1;32m    364\u001b[0m \u001b[38;5;28;01mif\u001b[39;00m depth \u001b[38;5;241m<\u001b[39m \u001b[38;5;241m0\u001b[39m:\n\u001b[1;32m    365\u001b[0m     \u001b[38;5;28;01mcontinue\u001b[39;00m\n\u001b[0;32m--> 366\u001b[0m \u001b[38;5;28;01mfor\u001b[39;00m item \u001b[38;5;129;01min\u001b[39;00m container_client\u001b[38;5;241m.\u001b[39mwalk_blobs(\n\u001b[1;32m    367\u001b[0m                 name_starts_with\u001b[38;5;241m=\u001b[39mcurr_prefix):\n\u001b[1;32m    368\u001b[0m     \u001b[38;5;28;01mif\u001b[39;00m \u001b[38;5;28misinstance\u001b[39m(item, BlobPrefix):\n\u001b[1;32m    369\u001b[0m         stack\u001b[38;5;241m.\u001b[39mappend((item\u001b[38;5;241m.\u001b[39mname, depth \u001b[38;5;241m-\u001b[39m \u001b[38;5;241m1\u001b[39m))\n",
      "File \u001b[0;32m/opt/conda/lib/python3.10/site-packages/azure/core/paging.py:124\u001b[0m, in \u001b[0;36mItemPaged.__next__\u001b[0;34m(self)\u001b[0m\n\u001b[1;32m    122\u001b[0m \u001b[38;5;28;01mif\u001b[39;00m \u001b[38;5;28mself\u001b[39m\u001b[38;5;241m.\u001b[39m_page_iterator \u001b[38;5;129;01mis\u001b[39;00m \u001b[38;5;28;01mNone\u001b[39;00m:\n\u001b[1;32m    123\u001b[0m     \u001b[38;5;28mself\u001b[39m\u001b[38;5;241m.\u001b[39m_page_iterator \u001b[38;5;241m=\u001b[39m itertools\u001b[38;5;241m.\u001b[39mchain\u001b[38;5;241m.\u001b[39mfrom_iterable(\u001b[38;5;28mself\u001b[39m\u001b[38;5;241m.\u001b[39mby_page())\n\u001b[0;32m--> 124\u001b[0m \u001b[38;5;28;01mreturn\u001b[39;00m \u001b[38;5;28;43mnext\u001b[39;49m\u001b[43m(\u001b[49m\u001b[38;5;28;43mself\u001b[39;49m\u001b[38;5;241;43m.\u001b[39;49m\u001b[43m_page_iterator\u001b[49m\u001b[43m)\u001b[49m\n",
      "File \u001b[0;32m/opt/conda/lib/python3.10/site-packages/azure/core/paging.py:76\u001b[0m, in \u001b[0;36mPageIterator.__next__\u001b[0;34m(self)\u001b[0m\n\u001b[1;32m     74\u001b[0m     \u001b[38;5;28;01mraise\u001b[39;00m \u001b[38;5;167;01mStopIteration\u001b[39;00m(\u001b[38;5;124m\"\u001b[39m\u001b[38;5;124mEnd of paging\u001b[39m\u001b[38;5;124m\"\u001b[39m)\n\u001b[1;32m     75\u001b[0m \u001b[38;5;28;01mtry\u001b[39;00m:\n\u001b[0;32m---> 76\u001b[0m     \u001b[38;5;28mself\u001b[39m\u001b[38;5;241m.\u001b[39m_response \u001b[38;5;241m=\u001b[39m \u001b[38;5;28;43mself\u001b[39;49m\u001b[38;5;241;43m.\u001b[39;49m\u001b[43m_get_next\u001b[49m\u001b[43m(\u001b[49m\u001b[38;5;28;43mself\u001b[39;49m\u001b[38;5;241;43m.\u001b[39;49m\u001b[43mcontinuation_token\u001b[49m\u001b[43m)\u001b[49m\n\u001b[1;32m     77\u001b[0m \u001b[38;5;28;01mexcept\u001b[39;00m AzureError \u001b[38;5;28;01mas\u001b[39;00m error:\n\u001b[1;32m     78\u001b[0m     \u001b[38;5;28;01mif\u001b[39;00m \u001b[38;5;129;01mnot\u001b[39;00m error\u001b[38;5;241m.\u001b[39mcontinuation_token:\n",
      "File \u001b[0;32m/opt/conda/lib/python3.10/site-packages/azure/storage/blob/_list_blobs_helper.py:100\u001b[0m, in \u001b[0;36mBlobPropertiesPaged._get_next_cb\u001b[0;34m(self, continuation_token)\u001b[0m\n\u001b[1;32m     93\u001b[0m     \u001b[38;5;28;01mreturn\u001b[39;00m \u001b[38;5;28mself\u001b[39m\u001b[38;5;241m.\u001b[39m_command(\n\u001b[1;32m     94\u001b[0m         prefix\u001b[38;5;241m=\u001b[39m\u001b[38;5;28mself\u001b[39m\u001b[38;5;241m.\u001b[39mprefix,\n\u001b[1;32m     95\u001b[0m         marker\u001b[38;5;241m=\u001b[39mcontinuation_token \u001b[38;5;129;01mor\u001b[39;00m \u001b[38;5;28;01mNone\u001b[39;00m,\n\u001b[1;32m     96\u001b[0m         maxresults\u001b[38;5;241m=\u001b[39m\u001b[38;5;28mself\u001b[39m\u001b[38;5;241m.\u001b[39mresults_per_page,\n\u001b[1;32m     97\u001b[0m         \u001b[38;5;28mcls\u001b[39m\u001b[38;5;241m=\u001b[39mreturn_context_and_deserialized,\n\u001b[1;32m     98\u001b[0m         use_location\u001b[38;5;241m=\u001b[39m\u001b[38;5;28mself\u001b[39m\u001b[38;5;241m.\u001b[39mlocation_mode)\n\u001b[1;32m     99\u001b[0m \u001b[38;5;28;01mexcept\u001b[39;00m HttpResponseError \u001b[38;5;28;01mas\u001b[39;00m error:\n\u001b[0;32m--> 100\u001b[0m     \u001b[43mprocess_storage_error\u001b[49m\u001b[43m(\u001b[49m\u001b[43merror\u001b[49m\u001b[43m)\u001b[49m\n",
      "File \u001b[0;32m/opt/conda/lib/python3.10/site-packages/azure/storage/blob/_shared/response_handlers.py:189\u001b[0m, in \u001b[0;36mprocess_storage_error\u001b[0;34m(storage_error)\u001b[0m\n\u001b[1;32m    186\u001b[0m error\u001b[38;5;241m.\u001b[39margs \u001b[38;5;241m=\u001b[39m (error\u001b[38;5;241m.\u001b[39mmessage,)\n\u001b[1;32m    187\u001b[0m \u001b[38;5;28;01mtry\u001b[39;00m:\n\u001b[1;32m    188\u001b[0m     \u001b[38;5;66;03m# `from None` prevents us from double printing the exception (suppresses generated layer error context)\u001b[39;00m\n\u001b[0;32m--> 189\u001b[0m     \u001b[43mexec\u001b[49m\u001b[43m(\u001b[49m\u001b[38;5;124;43m\"\u001b[39;49m\u001b[38;5;124;43mraise error from None\u001b[39;49m\u001b[38;5;124;43m\"\u001b[39;49m\u001b[43m)\u001b[49m   \u001b[38;5;66;03m# pylint: disable=exec-used # nosec\u001b[39;00m\n\u001b[1;32m    190\u001b[0m \u001b[38;5;28;01mexcept\u001b[39;00m \u001b[38;5;167;01mSyntaxError\u001b[39;00m:\n\u001b[1;32m    191\u001b[0m     \u001b[38;5;28;01mraise\u001b[39;00m error\n",
      "File \u001b[0;32m<string>:1\u001b[0m\n",
      "File \u001b[0;32m/opt/conda/lib/python3.10/site-packages/azure/storage/blob/_list_blobs_helper.py:93\u001b[0m, in \u001b[0;36mBlobPropertiesPaged._get_next_cb\u001b[0;34m(self, continuation_token)\u001b[0m\n\u001b[1;32m     91\u001b[0m \u001b[38;5;28;01mdef\u001b[39;00m \u001b[38;5;21m_get_next_cb\u001b[39m(\u001b[38;5;28mself\u001b[39m, continuation_token):\n\u001b[1;32m     92\u001b[0m     \u001b[38;5;28;01mtry\u001b[39;00m:\n\u001b[0;32m---> 93\u001b[0m         \u001b[38;5;28;01mreturn\u001b[39;00m \u001b[38;5;28;43mself\u001b[39;49m\u001b[38;5;241;43m.\u001b[39;49m\u001b[43m_command\u001b[49m\u001b[43m(\u001b[49m\n\u001b[1;32m     94\u001b[0m \u001b[43m            \u001b[49m\u001b[43mprefix\u001b[49m\u001b[38;5;241;43m=\u001b[39;49m\u001b[38;5;28;43mself\u001b[39;49m\u001b[38;5;241;43m.\u001b[39;49m\u001b[43mprefix\u001b[49m\u001b[43m,\u001b[49m\n\u001b[1;32m     95\u001b[0m \u001b[43m            \u001b[49m\u001b[43mmarker\u001b[49m\u001b[38;5;241;43m=\u001b[39;49m\u001b[43mcontinuation_token\u001b[49m\u001b[43m \u001b[49m\u001b[38;5;129;43;01mor\u001b[39;49;00m\u001b[43m \u001b[49m\u001b[38;5;28;43;01mNone\u001b[39;49;00m\u001b[43m,\u001b[49m\n\u001b[1;32m     96\u001b[0m \u001b[43m            \u001b[49m\u001b[43mmaxresults\u001b[49m\u001b[38;5;241;43m=\u001b[39;49m\u001b[38;5;28;43mself\u001b[39;49m\u001b[38;5;241;43m.\u001b[39;49m\u001b[43mresults_per_page\u001b[49m\u001b[43m,\u001b[49m\n\u001b[1;32m     97\u001b[0m \u001b[43m            \u001b[49m\u001b[38;5;28;43mcls\u001b[39;49m\u001b[38;5;241;43m=\u001b[39;49m\u001b[43mreturn_context_and_deserialized\u001b[49m\u001b[43m,\u001b[49m\n\u001b[1;32m     98\u001b[0m \u001b[43m            \u001b[49m\u001b[43muse_location\u001b[49m\u001b[38;5;241;43m=\u001b[39;49m\u001b[38;5;28;43mself\u001b[39;49m\u001b[38;5;241;43m.\u001b[39;49m\u001b[43mlocation_mode\u001b[49m\u001b[43m)\u001b[49m\n\u001b[1;32m     99\u001b[0m     \u001b[38;5;28;01mexcept\u001b[39;00m HttpResponseError \u001b[38;5;28;01mas\u001b[39;00m error:\n\u001b[1;32m    100\u001b[0m         process_storage_error(error)\n",
      "File \u001b[0;32m/opt/conda/lib/python3.10/site-packages/azure/core/tracing/decorator.py:76\u001b[0m, in \u001b[0;36mdistributed_trace.<locals>.decorator.<locals>.wrapper_use_tracer\u001b[0;34m(*args, **kwargs)\u001b[0m\n\u001b[1;32m     74\u001b[0m span_impl_type \u001b[38;5;241m=\u001b[39m settings\u001b[38;5;241m.\u001b[39mtracing_implementation()\n\u001b[1;32m     75\u001b[0m \u001b[38;5;28;01mif\u001b[39;00m span_impl_type \u001b[38;5;129;01mis\u001b[39;00m \u001b[38;5;28;01mNone\u001b[39;00m:\n\u001b[0;32m---> 76\u001b[0m     \u001b[38;5;28;01mreturn\u001b[39;00m \u001b[43mfunc\u001b[49m\u001b[43m(\u001b[49m\u001b[38;5;241;43m*\u001b[39;49m\u001b[43margs\u001b[49m\u001b[43m,\u001b[49m\u001b[43m \u001b[49m\u001b[38;5;241;43m*\u001b[39;49m\u001b[38;5;241;43m*\u001b[39;49m\u001b[43mkwargs\u001b[49m\u001b[43m)\u001b[49m\n\u001b[1;32m     78\u001b[0m \u001b[38;5;66;03m# Merge span is parameter is set, but only if no explicit parent are passed\u001b[39;00m\n\u001b[1;32m     79\u001b[0m \u001b[38;5;28;01mif\u001b[39;00m merge_span \u001b[38;5;129;01mand\u001b[39;00m \u001b[38;5;129;01mnot\u001b[39;00m passed_in_parent:\n",
      "File \u001b[0;32m/opt/conda/lib/python3.10/site-packages/azure/storage/blob/_generated/operations/_container_operations.py:2612\u001b[0m, in \u001b[0;36mContainerOperations.list_blob_hierarchy_segment\u001b[0;34m(self, delimiter, prefix, marker, maxresults, include, timeout, request_id_parameter, **kwargs)\u001b[0m\n\u001b[1;32m   2609\u001b[0m response \u001b[38;5;241m=\u001b[39m pipeline_response\u001b[38;5;241m.\u001b[39mhttp_response\n\u001b[1;32m   2611\u001b[0m \u001b[38;5;28;01mif\u001b[39;00m response\u001b[38;5;241m.\u001b[39mstatus_code \u001b[38;5;129;01mnot\u001b[39;00m \u001b[38;5;129;01min\u001b[39;00m [\u001b[38;5;241m200\u001b[39m]:\n\u001b[0;32m-> 2612\u001b[0m     \u001b[43mmap_error\u001b[49m\u001b[43m(\u001b[49m\u001b[43mstatus_code\u001b[49m\u001b[38;5;241;43m=\u001b[39;49m\u001b[43mresponse\u001b[49m\u001b[38;5;241;43m.\u001b[39;49m\u001b[43mstatus_code\u001b[49m\u001b[43m,\u001b[49m\u001b[43m \u001b[49m\u001b[43mresponse\u001b[49m\u001b[38;5;241;43m=\u001b[39;49m\u001b[43mresponse\u001b[49m\u001b[43m,\u001b[49m\u001b[43m \u001b[49m\u001b[43merror_map\u001b[49m\u001b[38;5;241;43m=\u001b[39;49m\u001b[43merror_map\u001b[49m\u001b[43m)\u001b[49m\n\u001b[1;32m   2613\u001b[0m     error \u001b[38;5;241m=\u001b[39m \u001b[38;5;28mself\u001b[39m\u001b[38;5;241m.\u001b[39m_deserialize\u001b[38;5;241m.\u001b[39mfailsafe_deserialize(_models\u001b[38;5;241m.\u001b[39mStorageError, pipeline_response)\n\u001b[1;32m   2614\u001b[0m     \u001b[38;5;28;01mraise\u001b[39;00m HttpResponseError(response\u001b[38;5;241m=\u001b[39mresponse, model\u001b[38;5;241m=\u001b[39merror)\n",
      "File \u001b[0;32m/opt/conda/lib/python3.10/site-packages/azure/core/exceptions.py:109\u001b[0m, in \u001b[0;36mmap_error\u001b[0;34m(status_code, response, error_map)\u001b[0m\n\u001b[1;32m    107\u001b[0m     \u001b[38;5;28;01mreturn\u001b[39;00m\n\u001b[1;32m    108\u001b[0m error \u001b[38;5;241m=\u001b[39m error_type(response\u001b[38;5;241m=\u001b[39mresponse)\n\u001b[0;32m--> 109\u001b[0m \u001b[38;5;28;01mraise\u001b[39;00m error\n",
      "\u001b[0;31mClientAuthenticationError\u001b[0m: Server failed to authenticate the request. Please refer to the information in the www-authenticate header.\nRequestId:5d23c3d5-c01e-004c-1e39-86a73a000000\nTime:2023-05-14T07:59:04.1761368Z\nErrorCode:NoAuthenticationInformation\nContent: <?xml version=\"1.0\" encoding=\"utf-8\"?><Error><Code>NoAuthenticationInformation</Code><Message>Server failed to authenticate the request. Please refer to the information in the www-authenticate header.\nRequestId:5d23c3d5-c01e-004c-1e39-86a73a000000\nTime:2023-05-14T07:59:04.1761368Z</Message></Error>"
     ]
    }
   ],
   "source": [
    "kserve.Storage.download(\"https://deeplearning.blob.core.windows.net/kserve/test\", \".\")"
   ]
  },
  {
   "cell_type": "code",
   "execution_count": 42,
   "id": "7dcd5962",
   "metadata": {},
   "outputs": [],
   "source": [
    "MODEL_NAME=\"test\"\n",
    "INPUT_FILE_PATH=\"input-triton.json\"\n",
    "INGRESS_HOST=\"test-predictor-default.default.svc.cluster.local\"\n",
    "INGRESS_PORT=80\n",
    "\n",
    "s = f'''curl -v -H \"Content-Type: application/json\" \\\n",
    "    -X POST -d \"@{INPUT_FILE_PATH}\" \\\n",
    "    \"http://{INGRESS_HOST}:{INGRESS_PORT}/v2/models/{MODEL_NAME}/infer\"'''"
   ]
  },
  {
   "cell_type": "code",
   "execution_count": 45,
   "id": "aa15b337",
   "metadata": {},
   "outputs": [
    {
     "data": {
      "text/plain": [
       "'curl -v -H \"Content-Type: application/json\"     -X POST -d \"@input-triton.json\"     \"http://test-predictor-default.default.svc.cluster.local:80/v2/models/test/infer\"'"
      ]
     },
     "execution_count": 45,
     "metadata": {},
     "output_type": "execute_result"
    }
   ],
   "source": [
    "s"
   ]
  },
  {
   "cell_type": "code",
   "execution_count": null,
   "id": "49d10c5b",
   "metadata": {},
   "outputs": [],
   "source": [
    "curl -v -H \"Content-Type: application/json\" -X POST -d \"@input-triton.json\" \"10.64.140.43:80/v2/models/test/infer\""
   ]
  },
  {
   "cell_type": "code",
   "execution_count": null,
   "id": "2c965684",
   "metadata": {},
   "outputs": [],
   "source": [
    "curl -v -H \"Content-Type: application/json\" -X POST -d \"@input-triton.json\" \"127.0.0.1:8972/v2/models/test/infer\""
   ]
  },
  {
   "cell_type": "code",
   "execution_count": null,
   "id": "fc64c225",
   "metadata": {},
   "outputs": [],
   "source": [
    "curl -v -H \"Content-Type: application/json\" -X POST -d \"@data.json\" \"10.64.140.43:80/v2/models/test/infer\""
   ]
  },
  {
   "cell_type": "code",
   "execution_count": null,
   "id": "fc3e9429",
   "metadata": {},
   "outputs": [],
   "source": [
    "curl -v -H \"Host: knative-local-gateway.istio-system.svc.cluster.local\"-X POST -d \"@data.json\" \"http://10.64.140.44:80/v2/models/test/infe\" "
   ]
  }
 ],
 "metadata": {
  "kernelspec": {
   "display_name": "Python 3 (ipykernel)",
   "language": "python",
   "name": "python3"
  },
  "language_info": {
   "codemirror_mode": {
    "name": "ipython",
    "version": 3
   },
   "file_extension": ".py",
   "mimetype": "text/x-python",
   "name": "python",
   "nbconvert_exporter": "python",
   "pygments_lexer": "ipython3",
   "version": "3.10.9"
  }
 },
 "nbformat": 4,
 "nbformat_minor": 5
}
