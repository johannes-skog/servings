{
 "cells": [
  {
   "cell_type": "code",
   "execution_count": 72,
   "id": "2cf5b9c8",
   "metadata": {},
   "outputs": [
    {
     "name": "stdout",
     "output_type": "stream",
     "text": [
      "The autoreload extension is already loaded. To reload it, use:\n",
      "  %reload_ext autoreload\n"
     ]
    }
   ],
   "source": [
    "%load_ext autoreload\n",
    "%autoreload 2\n",
    "import sys\n",
    "import torch\n",
    "sys.path.append(\"src\")\n",
    "from azure_util import AzureBlobStorage"
   ]
  },
  {
   "cell_type": "code",
   "execution_count": 6,
   "id": "bbcdb836",
   "metadata": {},
   "outputs": [],
   "source": [
    "import torch\n",
    "\n",
    "class Network(torch.nn.Module):\n",
    "    \n",
    "    def __init__(self):\n",
    "        \n",
    "        super().__init__()\n",
    "        \n",
    "        self._layers = torch.nn.Sequential(\n",
    "            torch.nn.Linear(100, 200),\n",
    "            torch.nn.ELU(),\n",
    "            torch.nn.Linear(200, 2),\n",
    "        )\n",
    "        \n",
    "    def forward(self, x):\n",
    "        \n",
    "        return self._layers(x)\n",
    "    \n",
    "network = Network()"
   ]
  },
  {
   "cell_type": "code",
   "execution_count": 60,
   "id": "f89091a1",
   "metadata": {},
   "outputs": [],
   "source": [
    "import os\n",
    "PROJECT_NAME = \"test\"\n",
    "PROJECT_PATH = os.path.join(\"models\", PROJECT_NAME)\n",
    "VERSION = \"1\"\n",
    "os.makedirs(PROJECT_PATH, exist_ok = True)\n",
    "MODEL_PATH = os.path.join(PROJECT_PATH, VERSION)\n",
    "os.makedirs(MODEL_PATH, exist_ok = True)"
   ]
  },
  {
   "cell_type": "markdown",
   "id": "a51c61df",
   "metadata": {},
   "source": [
    "## Create the config for the model and trace the model\n"
   ]
  },
  {
   "cell_type": "code",
   "execution_count": 61,
   "id": "f686e625",
   "metadata": {},
   "outputs": [],
   "source": [
    "\n",
    "config = '''\n",
    "name: \"test_network\"\n",
    "platform: \"pytorch_libtorch\"\n",
    "max_batch_size: 10\n",
    "input [\n",
    "  {\n",
    "    name: \"INPUT__0\"\n",
    "    data_type: TYPE_FP32\n",
    "    dims: [100]\n",
    "  }\n",
    "]\n",
    "output [\n",
    "  {\n",
    "    name: \"OUTPUT__0\"\n",
    "    data_type: TYPE_FP32\n",
    "    dims: [2]\n",
    "  }\n",
    "]\n",
    "\n",
    "instance_group [\n",
    "    {\n",
    "        count: 1\n",
    "        kind: KIND_GPU\n",
    "    }\n",
    "]\n",
    "\n",
    "dynamic_batching {\n",
    "  preferred_batch_size: [ 4, 8 ],\n",
    "  max_queue_delay_microseconds: 1000\n",
    "}\n",
    "'''\n",
    "\n",
    "f = open(os.path.join(PROJECT_PATH, \"config.pbtxt\"), \"w\")\n",
    "f.write(config)\n",
    "f.close()"
   ]
  },
  {
   "cell_type": "code",
   "execution_count": null,
   "id": "1d4ec70c",
   "metadata": {},
   "outputs": [],
   "source": [
    "import torch\n",
    "# Trace the model and save it \n",
    "example = torch.rand(1, 100)\n",
    "traced_script_module = torch.jit.trace(network, example)\n",
    "traced_script_module.save(os.path.join(MODEL_PATH, \"model.pt\"))"
   ]
  },
  {
   "cell_type": "markdown",
   "id": "92d37c5d",
   "metadata": {},
   "source": [
    "## Upload the folder containing the config and traced model to azure, triton inference server will later grab the files from there"
   ]
  },
  {
   "cell_type": "code",
   "execution_count": 64,
   "id": "47be8bcb",
   "metadata": {},
   "outputs": [
    {
     "name": "stderr",
     "output_type": "stream",
     "text": [
      "2023-05-18 14:14:15.661 95 azure.core.pipeline.policies.http_logging_policy INFO [on_request():510] Request URL: 'https://deeplearning.blob.core.windows.net/kfserve2/models/test/config.pbtxt'\n",
      "Request method: 'PUT'\n",
      "Request headers:\n",
      "    'Content-Length': '487'\n",
      "    'x-ms-blob-type': 'REDACTED'\n",
      "    'x-ms-version': 'REDACTED'\n",
      "    'Content-Type': 'application/octet-stream'\n",
      "    'Accept': 'application/xml'\n",
      "    'User-Agent': 'azsdk-python-storage-blob/12.16.0 Python/3.10.9 (Linux-5.19.0-38-generic-x86_64-with-glibc2.27)'\n",
      "    'x-ms-date': 'REDACTED'\n",
      "    'x-ms-client-request-id': '455eaee2-f586-11ed-b0c5-0242ac110002'\n",
      "    'Authorization': 'REDACTED'\n",
      "A body is sent with the request\n",
      "2023-05-18 14:14:15.985 95 azure.core.pipeline.policies.http_logging_policy INFO [on_response():549] Response status: 201\n",
      "Response headers:\n",
      "    'Content-Length': '0'\n",
      "    'Content-MD5': 'REDACTED'\n",
      "    'Last-Modified': 'Thu, 18 May 2023 14:14:16 GMT'\n",
      "    'ETag': '\"0x8DB57AA29E322E2\"'\n",
      "    'Server': 'Windows-Azure-Blob/1.0 Microsoft-HTTPAPI/2.0'\n",
      "    'x-ms-request-id': '2efc0fea-e01e-0079-4193-89096f000000'\n",
      "    'x-ms-client-request-id': '455eaee2-f586-11ed-b0c5-0242ac110002'\n",
      "    'x-ms-version': 'REDACTED'\n",
      "    'x-ms-content-crc64': 'REDACTED'\n",
      "    'x-ms-request-server-encrypted': 'REDACTED'\n",
      "    'Date': 'Thu, 18 May 2023 14:14:16 GMT'\n",
      "2023-05-18 14:14:15.990 95 azure.core.pipeline.policies.http_logging_policy INFO [on_request():510] Request URL: 'https://deeplearning.blob.core.windows.net/kfserve2/models/test/1/model.pt'\n",
      "Request method: 'PUT'\n",
      "Request headers:\n",
      "    'Content-Length': '91332'\n",
      "    'x-ms-blob-type': 'REDACTED'\n",
      "    'x-ms-version': 'REDACTED'\n",
      "    'Content-Type': 'application/octet-stream'\n",
      "    'Accept': 'application/xml'\n",
      "    'User-Agent': 'azsdk-python-storage-blob/12.16.0 Python/3.10.9 (Linux-5.19.0-38-generic-x86_64-with-glibc2.27)'\n",
      "    'x-ms-date': 'REDACTED'\n",
      "    'x-ms-client-request-id': '4590dcb4-f586-11ed-b0c5-0242ac110002'\n",
      "    'Authorization': 'REDACTED'\n",
      "A body is sent with the request\n",
      "2023-05-18 14:14:16.157 95 azure.core.pipeline.policies.http_logging_policy INFO [on_response():549] Response status: 201\n",
      "Response headers:\n",
      "    'Content-Length': '0'\n",
      "    'Content-MD5': 'REDACTED'\n",
      "    'Last-Modified': 'Thu, 18 May 2023 14:14:16 GMT'\n",
      "    'ETag': '\"0x8DB57AA29FD5DB5\"'\n",
      "    'Server': 'Windows-Azure-Blob/1.0 Microsoft-HTTPAPI/2.0'\n",
      "    'x-ms-request-id': '2efc1012-e01e-0079-6593-89096f000000'\n",
      "    'x-ms-client-request-id': '4590dcb4-f586-11ed-b0c5-0242ac110002'\n",
      "    'x-ms-version': 'REDACTED'\n",
      "    'x-ms-content-crc64': 'REDACTED'\n",
      "    'x-ms-request-server-encrypted': 'REDACTED'\n",
      "    'Date': 'Thu, 18 May 2023 14:14:16 GMT'\n"
     ]
    }
   ],
   "source": [
    "import os\n",
    "\n",
    "azure_blob = AzureBlobStorage(\n",
    "    connection_string=os.environ['AZURE_CHECKPOINT_CONNECTION_STRING'],\n",
    "    container_name=\"kfserve2\",#, os.environ['AZURE_CHECKPOINT_CONTAINER_NAME'],\n",
    ")\n",
    "azure_blob.upload_folder(\"context\", \"\")"
   ]
  },
  {
   "cell_type": "code",
   "execution_count": null,
   "id": "4c33b388",
   "metadata": {},
   "outputs": [],
   "source": []
  }
 ],
 "metadata": {
  "kernelspec": {
   "display_name": "Python 3 (ipykernel)",
   "language": "python",
   "name": "python3"
  },
  "language_info": {
   "codemirror_mode": {
    "name": "ipython",
    "version": 3
   },
   "file_extension": ".py",
   "mimetype": "text/x-python",
   "name": "python",
   "nbconvert_exporter": "python",
   "pygments_lexer": "ipython3",
   "version": "3.10.9"
  }
 },
 "nbformat": 4,
 "nbformat_minor": 5
}
